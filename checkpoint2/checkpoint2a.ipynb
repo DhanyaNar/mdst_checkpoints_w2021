{
 "cells": [
  {
   "cell_type": "markdown",
   "id": "unusual-presentation",
   "metadata": {
    "colab_type": "text",
    "id": "0a8IYAJUshu1"
   },
   "source": [
    "# Exercises"
   ]
  },
  {
   "cell_type": "markdown",
   "id": "alien-chemistry",
   "metadata": {},
   "source": [
    "These exercises are a mix of Python and pandas/EDA practice. Most should be no more than a few lines of code! "
   ]
  },
  {
   "cell_type": "code",
   "execution_count": 1,
   "id": "temporal-peoples",
   "metadata": {
    "colab": {},
    "colab_type": "code",
    "id": "Jo6wuTgkshu1"
   },
   "outputs": [],
   "source": [
    "# here is a Python list:\n",
    "\n",
    "a = [1, 2, 3, 4, 5, 6]\n",
    "\n",
    "# get a list containing the last 3 elements of a\n",
    "b = a[-3:]\n",
    "\n",
    "# reverse the list\n",
    "b.reverse()\n",
    "\n",
    "# get a list where each entry in a is squared (so the new list is [1, 4, 9, 16, 25, 36])\n",
    "a_squared = [element ** 2 for element in a]"
   ]
  },
  {
   "cell_type": "code",
   "execution_count": 2,
   "id": "foreign-hobby",
   "metadata": {
    "colab": {},
    "colab_type": "code",
    "id": "qANtg5kQshu2"
   },
   "outputs": [],
   "source": [
    "# create a numpy array from this list\n",
    "import numpy as np\n",
    "b = np.array(a)"
   ]
  },
  {
   "cell_type": "code",
   "execution_count": 3,
   "id": "organic-stupid",
   "metadata": {
    "colab": {},
    "colab_type": "code",
    "id": "91CXRflLshu4"
   },
   "outputs": [
    {
     "data": {
      "text/plain": [
       "3.5"
      ]
     },
     "execution_count": 3,
     "metadata": {},
     "output_type": "execute_result"
    }
   ],
   "source": [
    "# find the mean of b\n",
    "np.mean(b)"
   ]
  },
  {
   "cell_type": "code",
   "execution_count": 4,
   "id": "bright-kinase",
   "metadata": {
    "colab": {},
    "colab_type": "code",
    "id": "ZJZFwzQfshu9"
   },
   "outputs": [],
   "source": [
    "# get a list where each entry in b is squared (so the new numpy array is [1, 4, 9, 16, 25, 36])\n",
    "# use a different (numpy-specific) approach\n",
    "b_squared = np.square(b)"
   ]
  },
  {
   "cell_type": "code",
   "execution_count": 5,
   "id": "universal-trance",
   "metadata": {
    "colab": {},
    "colab_type": "code",
    "id": "ajbA5rCCshu5"
   },
   "outputs": [
    {
     "name": "stdout",
     "output_type": "stream",
     "text": [
      "[[1 2 3]\n",
      " [4 5 6]]\n"
     ]
    }
   ],
   "source": [
    "# change b from a length-6 list to a 2x3 matrix\n",
    "b = np.reshape(b, (2, 3))\n",
    "print(b)"
   ]
  },
  {
   "cell_type": "code",
   "execution_count": 6,
   "id": "visible-reading",
   "metadata": {
    "colab": {},
    "colab_type": "code",
    "id": "wancU_PWshu6"
   },
   "outputs": [
    {
     "data": {
      "text/plain": [
       "array([2., 5.])"
      ]
     },
     "execution_count": 6,
     "metadata": {},
     "output_type": "execute_result"
    }
   ],
   "source": [
    "# find the mean value of each row\n",
    "np.mean(b, axis=1)"
   ]
  },
  {
   "cell_type": "code",
   "execution_count": 7,
   "id": "prompt-breed",
   "metadata": {
    "colab": {},
    "colab_type": "code",
    "id": "N3hXBrBtshu7"
   },
   "outputs": [
    {
     "data": {
      "text/plain": [
       "array([2.5, 3.5, 4.5])"
      ]
     },
     "execution_count": 7,
     "metadata": {},
     "output_type": "execute_result"
    }
   ],
   "source": [
    "# find the mean value of each column\n",
    "np.mean(b, axis=0)"
   ]
  },
  {
   "cell_type": "code",
   "execution_count": 8,
   "id": "round-buffer",
   "metadata": {
    "colab": {},
    "colab_type": "code",
    "id": "GvbO8gBXshu8"
   },
   "outputs": [
    {
     "data": {
      "text/plain": [
       "array([3, 6])"
      ]
     },
     "execution_count": 8,
     "metadata": {},
     "output_type": "execute_result"
    }
   ],
   "source": [
    "# find the third column of b\n",
    "b[:,2]"
   ]
  },
  {
   "cell_type": "code",
   "execution_count": 9,
   "id": "distinguished-clause",
   "metadata": {
    "colab": {},
    "colab_type": "code",
    "id": "WzCQ5HOJshvA"
   },
   "outputs": [],
   "source": [
    "# load in the \"starbucks_clean.csv\" dataset\n",
    "import pandas as pd\n",
    "df = pd.read_csv('../data/starbucks_clean.csv')"
   ]
  },
  {
   "cell_type": "code",
   "execution_count": 10,
   "id": "global-clothing",
   "metadata": {
    "colab": {},
    "colab_type": "code",
    "id": "rIoxaSxHshvB"
   },
   "outputs": [
    {
     "data": {
      "text/plain": [
       "193.87190082644628"
      ]
     },
     "execution_count": 10,
     "metadata": {},
     "output_type": "execute_result"
    }
   ],
   "source": [
    "# this is nutritional info for starbucks items\n",
    "# let's see if we can answer some questions\n",
    "\n",
    "# what is the average # calories across all items?\n",
    "np.mean(df[\"calories\"])"
   ]
  },
  {
   "cell_type": "code",
   "execution_count": 11,
   "id": "shaped-paris",
   "metadata": {
    "colab": {},
    "colab_type": "code",
    "id": "ABX7i49FshvD"
   },
   "outputs": [
    {
     "data": {
      "text/plain": [
       "9"
      ]
     },
     "execution_count": 11,
     "metadata": {},
     "output_type": "execute_result"
    }
   ],
   "source": [
    "# how many different categories of beverages are there?\n",
    "df[\"beverage_category\"].nunique()"
   ]
  },
  {
   "cell_type": "code",
   "execution_count": 12,
   "id": "organic-encyclopedia",
   "metadata": {
    "colab": {},
    "colab_type": "code",
    "id": "P9QatZAzshvE"
   },
   "outputs": [
    {
     "data": {
      "text/plain": [
       "beverage_category\n",
       "classicespressodrinks            140.172414\n",
       "coffee                             4.250000\n",
       "frappuccinoblendedcoffee         276.944444\n",
       "frappuccinoblendedcrme           233.076923\n",
       "frappuccinolightblendedcoffee    162.500000\n",
       "shakenicedbeverages              114.444444\n",
       "signatureespressodrinks          250.000000\n",
       "smoothies                        282.222222\n",
       "tazoteadrinks                    177.307692\n",
       "Name: calories, dtype: float64"
      ]
     },
     "execution_count": 12,
     "metadata": {},
     "output_type": "execute_result"
    }
   ],
   "source": [
    "# what is the average # calories for each beverage category?\n",
    "df.groupby(\"beverage_category\")['calories'].mean()"
   ]
  },
  {
   "cell_type": "code",
   "execution_count": 13,
   "id": "enhanced-prior",
   "metadata": {
    "colab": {},
    "colab_type": "code",
    "id": "y8KEpYNkshvG"
   },
   "outputs": [
    {
     "data": {
      "text/plain": [
       "'Whole Milk'"
      ]
     },
     "execution_count": 13,
     "metadata": {},
     "output_type": "execute_result"
    }
   ],
   "source": [
    "# what beverage preparation includes the most sugar on average?\n",
    "df.groupby(\"beverage_prep\")['sugars'].mean().idxmax()"
   ]
  },
  {
   "cell_type": "code",
   "execution_count": 14,
   "id": "academic-unknown",
   "metadata": {
    "colab": {},
    "colab_type": "code",
    "id": "MnbCEJw8shvH"
   },
   "outputs": [
    {
     "data": {
      "text/plain": [
       "beverage\n",
       "bananachocolatesmoothie                      20.000000\n",
       "brewedcoffee                                  0.500000\n",
       "caffamericano                                 1.500000\n",
       "cafflatte                                    35.000000\n",
       "caffmochawithoutwhippedcream                 30.000000\n",
       "cappuccino                                   22.500000\n",
       "caramel                                      11.000000\n",
       "caramelapplespicewithoutwhippedcream          0.000000\n",
       "caramelmacchiato                             28.333333\n",
       "caramelwithoutwhippedcream                   12.000000\n",
       "coffee                                       12.333333\n",
       "espresso                                      0.000000\n",
       "hotchocolatewithoutwhippedcream              35.000000\n",
       "icedbrewedcoffeewithclassicsyrup              0.000000\n",
       "icedbrewedcoffeewithmilkclassicsyrup          8.000000\n",
       "javachip                                     11.666667\n",
       "javachipwithoutwhippedcream                  12.555556\n",
       "mocha                                        11.000000\n",
       "mochawithoutwhippedcream                     12.000000\n",
       "orangemangobananasmoothie                    10.000000\n",
       "shakenicedtazotealemonadewithclassicsyrup     0.000000\n",
       "shakenicedtazoteawithclassicsyrup             0.000000\n",
       "skinnylatteanyflavour                        33.750000\n",
       "strawberriescrmewithoutwhippedcream          15.000000\n",
       "strawberrybananasmoothie                     10.000000\n",
       "tazochaitealatte                             21.666667\n",
       "tazofullleafredtealattevanillarooibos        20.833333\n",
       "tazofullleaftealatte                         20.833333\n",
       "tazogreentealatte                            39.166667\n",
       "tazotea                                       0.000000\n",
       "vanillabeanwithoutwhippedcream               11.250000\n",
       "vanillalatteorotherflavouredlatte            32.916667\n",
       "whitechocolatemochawithoutwhippedcream       41.250000\n",
       "Name: calcium, dtype: float64"
      ]
     },
     "execution_count": 14,
     "metadata": {},
     "output_type": "execute_result"
    }
   ],
   "source": [
    "# what is the average % daily value calcium content for each beverage?\n",
    "df.groupby(\"beverage\")['calcium'].mean()"
   ]
  },
  {
   "cell_type": "code",
   "execution_count": 15,
   "id": "changing-norman",
   "metadata": {
    "colab": {},
    "colab_type": "code",
    "id": "Nv5dksj_shvJ"
   },
   "outputs": [
    {
     "data": {
      "text/plain": [
       "'bananachocolatesmoothie'"
      ]
     },
     "execution_count": 15,
     "metadata": {},
     "output_type": "execute_result"
    }
   ],
   "source": [
    "# It's bulking season. What drink should Naitian get so that he maximizes protein but minimizes calories?\n",
    "# (you can use more than one line for this one)\n",
    "# there are multiple valid approaches you can take for this (with different answers)\n",
    "# I know that you want more calories for bulking season but whatever this is MDST, not Michigan Muscle Club okay\n",
    "\n",
    "best_index = df.sort_values(['protein', 'calories'], ascending = [False, True]).index[0]\n",
    "best_drink = df.at[int(best_index), 'beverage']\n",
    "best_drink"
   ]
  },
  {
   "cell_type": "code",
   "execution_count": 16,
   "id": "addressed-royalty",
   "metadata": {},
   "outputs": [
    {
     "data": {
      "text/plain": [
       "<AxesSubplot:ylabel='Frequency'>"
      ]
     },
     "execution_count": 16,
     "metadata": {},
     "output_type": "execute_result"
    },
    {
     "data": {
      "image/png": "[encoded data removed]",
      "text/plain": [
       "<Figure size 432x288 with 1 Axes>"
      ]
     },
     "metadata": {
      "needs_background": "light"
     },
     "output_type": "display_data"
    }
   ],
   "source": [
    "# plot the distribution of the number of calories in drinks using matplotlib\n",
    "import matplotlib.pyplot as plt\n",
    "df[\"calories\"].plot.hist(bins=30)"
   ]
  },
  {
   "cell_type": "code",
   "execution_count": 17,
   "id": "efficient-garbage",
   "metadata": {},
   "outputs": [
    {
     "data": {
      "text/plain": [
       "<seaborn.axisgrid.FacetGrid at 0x7f6ae87dbe80>"
      ]
     },
     "execution_count": 17,
     "metadata": {},
     "output_type": "execute_result"
    },
    {
     "data": {
      "image/png": "[encoded data removed]",
      "text/plain": [
       "<Figure size 360x360 with 1 Axes>"
      ]
     },
     "metadata": {},
     "output_type": "display_data"
    }
   ],
   "source": [
    "# plot the same distribution using seaborn.\n",
    "import seaborn as sns\n",
    "sns.set()\n",
    "sns.displot(data=df, x='calories', bins=30)"
   ]
  },
  {
   "cell_type": "code",
   "execution_count": 18,
   "id": "fifty-knitting",
   "metadata": {},
   "outputs": [
    {
     "data": {
      "text/plain": [
       "<seaborn.axisgrid.FacetGrid at 0x7f6ac541bbb0>"
      ]
     },
     "execution_count": 18,
     "metadata": {},
     "output_type": "execute_result"
    },
    {
     "data": {
      "image/png": "[encoded data removed]",
      "text/plain": [
       "<Figure size 360x360 with 1 Axes>"
      ]
     },
     "metadata": {},
     "output_type": "display_data"
    }
   ],
   "source": [
    "# what about a density plot instead?\n",
    "sns.displot(data=df, x='calories', kind='kde')"
   ]
  },
  {
   "cell_type": "code",
   "execution_count": 19,
   "id": "chicken-aluminum",
   "metadata": {},
   "outputs": [
    {
     "data": {
      "text/plain": [
       "<AxesSubplot:xlabel='calories', ylabel='total fat'>"
      ]
     },
     "execution_count": 19,
     "metadata": {},
     "output_type": "execute_result"
    },
    {
     "data": {
      "image/png": "[encoded data removed]",
      "text/plain": [
       "<Figure size 432x288 with 1 Axes>"
      ]
     },
     "metadata": {},
     "output_type": "display_data"
    }
   ],
   "source": [
    "# plot calories against total fat using seaborn\n",
    "sns.scatterplot(data=df, x=\"calories\", y=\"total fat\")"
   ]
  },
  {
   "cell_type": "code",
   "execution_count": 20,
   "id": "involved-fighter",
   "metadata": {},
   "outputs": [
    {
     "data": {
      "text/plain": [
       "array([[<AxesSubplot:title={'center':'Grande'}>,\n",
       "        <AxesSubplot:title={'center':'Grande Nonfat Milk'}>,\n",
       "        <AxesSubplot:title={'center':'Short'}>],\n",
       "       [<AxesSubplot:title={'center':'Short Nonfat Milk'}>,\n",
       "        <AxesSubplot:title={'center':'Tall'}>,\n",
       "        <AxesSubplot:title={'center':'Tall Nonfat Milk'}>],\n",
       "       [<AxesSubplot:title={'center':'Venti'}>,\n",
       "        <AxesSubplot:title={'center':'Venti Nonfat Milk'}>,\n",
       "        <AxesSubplot:>]], dtype=object)"
      ]
     },
     "execution_count": 20,
     "metadata": {},
     "output_type": "execute_result"
    },
    {
     "data": {
      "image/png": "[encoded data removed]",
      "text/plain": [
       "<Figure size 720x720 with 9 Axes>"
      ]
     },
     "metadata": {},
     "output_type": "display_data"
    }
   ],
   "source": [
    "# plot the distribution of calories in Short, Tall, Grande, and Venti drinks\n",
    "# (you can use multiple lines for this)\n",
    "# twist: you should also include the Nonfat Milk drinks that also have an associated size.\n",
    "\n",
    "# you can decide how you want to visualize this. Colors? Small multiples? Density vs histogram?\n",
    "# the starbucks is your oyster.\n",
    "df_stgv = df.loc[df[\"beverage_prep\"].str.startswith(((\"Short\", \"Tall\", \"Grande\", \"Venti\")))]\n",
    "df_stgv[\"calories\"].hist(by=df_stgv[\"beverage_prep\"], figsize=(10, 10))"
   ]
  },
  {
   "cell_type": "code",
   "execution_count": 21,
   "id": "collective-botswana",
   "metadata": {},
   "outputs": [
    {
     "data": {
      "text/plain": [
       "<seaborn.axisgrid.FacetGrid at 0x7f6ac3065a90>"
      ]
     },
     "execution_count": 21,
     "metadata": {},
     "output_type": "execute_result"
    },
    {
     "data": {
      "image/png": "[encoded data removed]",
      "text/plain": [
       "<Figure size 506.6x360 with 1 Axes>"
      ]
     },
     "metadata": {},
     "output_type": "display_data"
    }
   ],
   "source": [
    "sns.displot(data=df_stgv, x=\"calories\", hue=\"beverage_prep\", multiple=\"stack\")"
   ]
  }
 ],
 "metadata": {
  "kernelspec": {
   "display_name": "Python 3",
   "language": "python",
   "name": "python3"
  },
  "language_info": {
   "codemirror_mode": {
    "name": "ipython",
    "version": 3
   },
   "file_extension": ".py",
   "mimetype": "text/x-python",
   "name": "python",
   "nbconvert_exporter": "python",
   "pygments_lexer": "ipython3",
   "version": "3.8.5"
  }
 },
 "nbformat": 4,
 "nbformat_minor": 5
}
